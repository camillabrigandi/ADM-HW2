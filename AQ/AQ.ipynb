{
 "cells": [
  {
   "cell_type": "code",
   "execution_count": 23,
   "id": "ddc16730-b309-4f17-b99d-f1f18d31eca5",
   "metadata": {},
   "outputs": [],
   "source": [
    "def calculate_pops(left_shelf, right_shelf, book_id):\n",
    "    # Check if the book is on the left shelf.\n",
    "    if book_id in left_shelf:\n",
    "        # If the book is on the left shelf, find its index.\n",
    "        left_pops = left_shelf.index(book_id)  # O(n), where n is the number of books on the left shelf\n",
    "    else:\n",
    "        # If the book is not on the left shelf, set left_pops to the number of books on the left shelf.\n",
    "        left_pops = len(left_shelf)  # O(1)\n",
    "\n",
    "    # Check if the book is on the right shelf.\n",
    "    if book_id in right_shelf:\n",
    "        # If the book is on the right shelf, find its index.\n",
    "        right_pops = len(right_shelf) - right_shelf.index(book_id) - 1  # O(n), where n is the number of books on the right shelf\n",
    "    else:\n",
    "        # If the book is not on the right shelf, set right_pops to the number of books on the right shelf.\n",
    "        right_pops = len(right_shelf)  # O(1)\n",
    "\n",
    "    # Calculate the minimum pops between left_pops and right_pops.\n",
    "    minimum_pops = min(left_pops, right_pops)  # O(1)\n",
    "\n",
    "    # Return the minimum pops value.\n",
    "    return minimum_pops\n",
    "# Overall time complexity is O(n) in the worst case\n",
    "\n",
    "def print_instruction_result():\n",
    "    # Initialize the left and right shelves.\n",
    "    left_shelf = []  # O(1)\n",
    "    right_shelf = []  # O(1)\n",
    "    \n",
    "    # Read the number of instructions.\n",
    "    n = int(input(\"How many instructions do you want to apply? \"))  # O(1)\n",
    "\n",
    "    # Initialize a list to store the results of type 3 instructions.\n",
    "    results = []\n",
    "    \n",
    "    # Process each instruction.\n",
    "    for i in range(n):  # O(n)\n",
    "        # Read the instruction and split it into action and book_id.\n",
    "        instruction = input(f\"instruction # {i+1}: \").split()\n",
    "        action, book_id = instruction[0], int(instruction[1])\n",
    "\n",
    "        if action == 'L':\n",
    "            # If it's 'L', insert the book at the beginning of the left shelf.\n",
    "            left_shelf.insert(0, book_id)  # O(n) - Total number of instructions is 'n'.\n",
    "\n",
    "        elif action == 'R':\n",
    "            # If it's 'R', append the book to the right shelf.\n",
    "            right_shelf.append(book_id)  # O(1)\n",
    "\n",
    "        else:\n",
    "            # we calculate the minimum pops, which involves searching for the book's position in both the left and right shelf lists. \n",
    "            # The worst-case time complexity for searching in a list is O(n), and in the worst case, we perform two searches. \n",
    "            # Therefore, the time complexity for calculating minimum pops is O(n).\n",
    "            \n",
    "            # Type 3 instruction, calculate and append the result to the results list.\n",
    "            # Calculate the minimum pops by calling the 'calculate_pops' function.\n",
    "            result = calculate_pops(left_shelf, right_shelf, book_id)  # O(n) - Searching in lists with worst-case time complexity.\n",
    "\n",
    "            # Append the result to the results list.\n",
    "            results.append(result)\n",
    "    \n",
    "    # Print the results for type 3 instructions.\n",
    "    print(f\"The results of {n} instructions are: \")\n",
    "\n",
    "    # Iterate through the results list and print each result.\n",
    "    for result in results:  # O(n)\n",
    "        print(result)\n"
   ]
  },
  {
   "cell_type": "code",
   "execution_count": 24,
   "id": "65b0bafe-daac-4947-a02d-4c3d373d2e0f",
   "metadata": {},
   "outputs": [
    {
     "name": "stdin",
     "output_type": "stream",
     "text": [
      "How many instructions do you want to apply?  8\n",
      "instruction # 1:  L 75\n",
      "instruction # 2:  R 20\n",
      "instruction # 3:  R 30\n",
      "instruction # 4:  L 11\n",
      "instruction # 5:  ? 75\n",
      "instruction # 6:  L 12\n",
      "instruction # 7:  L 15\n",
      "instruction # 8:  ? 20\n"
     ]
    },
    {
     "name": "stdout",
     "output_type": "stream",
     "text": [
      "The results of 8 instructions are: \n",
      "1\n",
      "1\n"
     ]
    }
   ],
   "source": [
    "print_instruction_result()\n",
    "# Input 1\n",
    "\n",
    "# 8\n",
    "# L 75\n",
    "# R 20\n",
    "# R 30\n",
    "# L 11\n",
    "# ? 75\n",
    "# L 12\n",
    "# L 15\n",
    "# ? 20\n",
    "\n",
    "# Output 1\n",
    "\n",
    "# 1\n",
    "# 1"
   ]
  },
  {
   "cell_type": "code",
   "execution_count": 26,
   "id": "693075b4-35c7-42ad-ad65-9f044b992e37",
   "metadata": {},
   "outputs": [
    {
     "name": "stdin",
     "output_type": "stream",
     "text": [
      "How many instructions do you want to apply?  17\n",
      "instruction # 1:  R 1\n",
      "instruction # 2:  L 2\n",
      "instruction # 3:  L 3\n",
      "instruction # 4:  L 4\n",
      "instruction # 5:  ? 3\n",
      "instruction # 6:  R 5\n",
      "instruction # 7:  R 6\n",
      "instruction # 8:  L 7\n",
      "instruction # 9:  L 8\n",
      "instruction # 10:  ? 4\n",
      "instruction # 11:  L 9\n",
      "instruction # 12:  R 10\n",
      "instruction # 13:  R 11\n",
      "instruction # 14:  L 12\n",
      "instruction # 15:  L 13\n",
      "instruction # 16:  ? 11\n",
      "instruction # 17:  ? 3\n"
     ]
    },
    {
     "name": "stdout",
     "output_type": "stream",
     "text": [
      "The results of 17 instructions are: \n",
      "1\n",
      "2\n",
      "0\n",
      "5\n"
     ]
    }
   ],
   "source": [
    "print_instruction_result()\n",
    "\n",
    "# Input 2\n",
    "\n",
    "# 17\n",
    "# R 1\n",
    "# L 2\n",
    "# L 3\n",
    "# L 4\n",
    "# ? 3\n",
    "# R 5\n",
    "# R 6\n",
    "# L 7\n",
    "# L 8\n",
    "# ? 4\n",
    "# L 9\n",
    "# R 10\n",
    "# R 11\n",
    "# L 12\n",
    "# L 13\n",
    "# ? 11\n",
    "# ? 3\n",
    "\n",
    "# Output 2:\n",
    "\n",
    "# 1\n",
    "# 2\n",
    "# 0\n",
    "# 5"
   ]
  },
  {
   "cell_type": "markdown",
   "id": "9f8e11fc-9d43-4623-a995-1827cd3823f5",
   "metadata": {},
   "source": [
    "## Calculate the time complexity (the Big O notation):\n",
    "\n",
    "The overall time complexity of the print_instruction_result function is dominated by the loop iterating 'n' times, and the time complexity is $O(n^2)$ in the worst case. This is due to the $O(n)$ time complexity for inserting into the left shelf for each 'L' instruction, and the $O(n)$ time complexity for calculating minimum pops in '3' instructions. \n",
    "\n",
    "Overall time complexity (the Big $O$ notation) is the maximum time complexity of the whole code. which is : $O(n^2)$"
   ]
  },
  {
   "cell_type": "markdown",
   "id": "104f6115-3387-45fe-8c50-82541e85ae6b",
   "metadata": {},
   "source": [
    "## Is the proposed algorithm optimal?\n",
    "\n",
    "The algorithm proposed in the minimum_pops function is not the most optimal one.\n",
    "it performs a linear search in both left_shelf and right_shelf to find the position of the book with 'book_id'.\n",
    "A more efficient approach would be using a dictionary or a set, to keep track of the positions of books in each shelf.\n",
    "The following code is a revised minimum_pops method:"
   ]
  },
  {
   "cell_type": "code",
   "execution_count": 28,
   "id": "830b95f1-b418-49ca-80c9-22a953e3b424",
   "metadata": {},
   "outputs": [],
   "source": [
    "def minimum_pops(left_shelf, right_shelf, book_id):\n",
    "    # Create dictionaries to store book positions in left_shelf and right_shelf.\n",
    "    left_positions = {book: index for index, book in enumerate(left_shelf)}\n",
    "    right_positions = {book: index for index, book in enumerate(right_shelf)}\n",
    "    \n",
    "    # Find the position of the book with book_id in left_shelf, default to len(left_shelf) if not found.\n",
    "    left_pops = left_positions.get(book_id, len(left_shelf))\n",
    "    \n",
    "    # Find the position of the book with book_id in right_shelf, default to len(right_shelf) if not found.\n",
    "    right_pops = right_positions.get(book_id, len(right_shelf))\n",
    "    \n",
    "    # Calculate the minimum pops between left_pops and right_pops.\n",
    "    minimum_pops = min(left_pops, right_pops)\n",
    "    \n",
    "    return minimum_pops\n"
   ]
  },
  {
   "cell_type": "markdown",
   "id": "97edfa98-f7d3-44b8-9ff2-7b6ee98d2d7b",
   "metadata": {},
   "source": [
    "This revised code results in an overall time complexity of $O(1)$ for the minimum_pops function.\n",
    "\n",
    "So in this case, the overall time complexity (the Big $O$ notation) of the whole code would be : $O(n)$"
   ]
  },
  {
   "cell_type": "code",
   "execution_count": null,
   "id": "0ee3dfb4-b411-4b8c-beee-f8324c410505",
   "metadata": {},
   "outputs": [],
   "source": []
  }
 ],
 "metadata": {
  "kernelspec": {
   "display_name": "Python 3 (ipykernel)",
   "language": "python",
   "name": "python3"
  },
  "language_info": {
   "codemirror_mode": {
    "name": "ipython",
    "version": 3
   },
   "file_extension": ".py",
   "mimetype": "text/x-python",
   "name": "python",
   "nbconvert_exporter": "python",
   "pygments_lexer": "ipython3",
   "version": "3.12.0"
  }
 },
 "nbformat": 4,
 "nbformat_minor": 5
}
