{
 "cells": [
  {
   "cell_type": "code",
   "execution_count": 35,
   "id": "d20874d2-7197-4b39-b47d-844b47af8781",
   "metadata": {},
   "outputs": [],
   "source": [
    "import pandas as pd\n",
    "import json\n",
    "import time"
   ]
  },
  {
   "cell_type": "code",
   "execution_count": 36,
   "id": "2c2ad846-922d-45c9-bd60-47762b20a283",
   "metadata": {
    "scrolled": true
   },
   "outputs": [
    {
     "name": "stdout",
     "output_type": "stream",
     "text": [
      "tags\n",
      "romance            6001\n",
      "fiction            5291\n",
      "young-adult        5016\n",
      "fantasy            3666\n",
      "science-fiction    2779\n",
      "Name: count, dtype: int64\n",
      "CPU times: user 30.7 s, sys: 59.7 s, total: 1min 30s\n",
      "Wall time: 2min 13s\n"
     ]
    }
   ],
   "source": [
    "%%time\n",
    "list_json = pd.read_json('list.json', lines = True, chunksize=10000)\n",
    "list_df = pd.concat(list_json, ignore_index=False)\n",
    "\n",
    "# Explode the 'tags' column to create separate rows for each tag\n",
    "exploded_tags = list_df['tags'].explode()\n",
    "\n",
    "# Count the frequency of each tag\n",
    "tag_counts = exploded_tags.value_counts()\n",
    "\n",
    "# Get the top 5 most frequently used tags\n",
    "top_5_tags = tag_counts.head(5)\n",
    "\n",
    "# Print the result\n",
    "print(top_5_tags)"
   ]
  },
  {
   "cell_type": "markdown",
   "id": "6e902e69-6403-4230-b908-505c8e787f98",
   "metadata": {},
   "source": [
    "## The information about the config of the EC2 instance\n",
    "first I created a instance:\n",
    "in Name and tags filed, I wrote:\n",
    "linux-t3-large\n",
    "in ‘Application and OS Images (Amazon Machine Image)’ I select Ubuntu Server 22.04 LTS\n",
    "\n",
    "as instance type, I selected: ",
    "t3.large\n",
    "\n",
    "as Key pair, I selected my existing key that I used to connect.\n",
    "\n",
    "In Network settings, I chose:\n",
    "Select existing security group\n",
    "\n",
    "as Storage (volumes), I select 30 Size (GiB)\n",
    "\n",
    "Then pressed ‘Launch Instance’. ",
    "\n",
    "\n",
    "-----------------------------------------------------------------------\n",
    "\n",
    "## The command used to connect to the EC2\n",
    "\n",
    "I used the following command to connect to my EC2 linux server (instance):\n",
    "\n",
    "$ ssh -i \"myKeyPair-Arman.pem\" ubuntu@ec2-54-204-98-221.compute-1.amazonaws.com\n",
    "\n",
    "First I uploaded the file in my S3 bucket.\n",
    "\n",
    "in EC2, I ran the following command to download from S3 bucket. \n",
    "$ wget https://arman-feili.s3.amazonaws.com/list.json\n",
    "\n",
    "In order to run Jupyter Notebook in AWS linux server, I ran the following command in linux terminal:\n",
    "$ jupyter notebook --no-browser\n",
    "\n",
    "I ran the below command in my local terminal:\n",
    "$ ssh -L 8088:localhost:8888 -i \"myKeyPair-Arman.pem\" ubuntu@ec2-54-204-98-221.compute-1.amazonaws.com\n",
    "\n",
    "in order to see the Jupyter notebook window in a Graphical user interface, I ran: ",
    "http://localhost:8088\n",
    "\n",
    "-----------------------------------------------------------------------\n",
    "\n",
    "## The commands used to upload the files and run the script on the EC2 instance through your local system\n",
    "\n",
    "I created a S3 bucket as an extra storage for EC2 instance.\n",
    "\n",
    "I clicked on ‘S3’ service.\n",
    "then pressed ‘create bucket’ and defined a name which was unique.\n",
    "\n",
    "for the AWS Region, chose:\n",
    "US East (N. Virginia) us-east-1\n",
    "\n",
    "then went to permissions\n",
    "> Block public access (bucket settings)\n",
    "> Edit\n",
    "unchecked all the blocks, so your bucket would be public.\n",
    "\n",
    "Went to permissions > Object OwnershipInfo > Edit\n",
    "change to ‘ACLs enabled’\n",
    "\n",
    "I uploaded the list.json file into the S3\n",
    "I changed the permission for Read and Write for everyone, so I could easily execute the following command to download list.json file from S3 bucket\n",
    "\n",
    "-----------------------------------------------------------------------\n",
    "\n",
    "## A table containing the most popular tags and their number of usage\n",
    "\n",
    "tags\n",
    "romance:            6001,\n",
    "fiction:            5291,\n",
    "young-adult:        5016,\n",
    "fantasy:            3666,\n",
    "science-fiction:    2779\n",
    "\n",
    "### Tags:\n",
    "| romance | fiction | young-adult | fantasy | science-fiction\n",
    "| --- | --- | --- | --- | --- |\n",
    "| 6001 | 5291 | 5016 | 3666 | 2779 |\n",
    "\n",
    "-----------------------------------------------------------------------\n",
    "\n",
    "## A table containing the running time of the script on your local system and EC2 instance\n",
    "\n",
    "local machine:\n",
    "CPU times: user 30.7 s, sys: 59.7 s, total: 1min 30s\n",
    "Wall time: 2min 13s\n",
    "\n",
    "EC2 instance:\n",
    "It ran out of memory and the Kernel of Jupyter died.\n",
    "I ran $htop to see the server condition.\n",
    "both 2 cores of the CPU were using their upmost capacity and\n",
    "the 8 GIB of RAM was compeletly full.\n",
    "\n",
    "I tried to install different EC2 instances, including: linux-t3-xlarge, linux-t3-2xlarge, and linux-t3-3xlarge.\n",
    "Due to limitation, we only have access to such server with 8 GIB of Ram. However, this task requires a server with 16 GIB of RAM and at least 4 cores of CPU."
   ]
  },
  {
   "cell_type": "markdown",
   "id": "d2284e02-08da-415f-822b-983fd90cbe88",
   "metadata": {},
   "source": [
    "![](./t3-large.png)"
   ]
  },
  {
   "cell_type": "code",
   "execution_count": null,
   "id": "ca3cadaa-05fa-4e33-bc75-c8255da559fa",
   "metadata": {},
   "outputs": [],
   "source": []
  }
 ],
 "metadata": {
  "kernelspec": {
   "display_name": "Python 3 (ipykernel)",
   "language": "python",
   "name": "python3"
  },
  "language_info": {
   "codemirror_mode": {
    "name": "ipython",
    "version": 3
   },
   "file_extension": ".py",
   "mimetype": "text/x-python",
   "name": "python",
   "nbconvert_exporter": "python",
   "pygments_lexer": "ipython3",
   "version": "3.12.0"
  }
 },
 "nbformat": 4,
 "nbformat_minor": 5
}
